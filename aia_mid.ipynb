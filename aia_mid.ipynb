{
 "cells": [
  {
   "cell_type": "markdown",
   "metadata": {},
   "source": [
    "# AIA\n",
    "AIA mid-term"
   ]
  },
  {
   "cell_type": "code",
   "execution_count": 1,
   "metadata": {},
   "outputs": [],
   "source": [
    "import os\n",
    "import numpy as np\n",
    "import pandas as pd\n",
    "from pathlib import Path\n",
    "import matplotlib.pyplot as plt\n",
    "%matplotlib inline\n",
    "\n",
    "root_path = Path('/media/share/data/kaggle/TWaia')\n",
    "train = root_path / 'train'\n",
    "test = root_path / 'test'"
   ]
  },
  {
   "cell_type": "markdown",
   "metadata": {},
   "source": [
    "## image process\n",
    "- color trans\n",
    "- resize to 224, 224"
   ]
  },
  {
   "cell_type": "code",
   "execution_count": 2,
   "metadata": {},
   "outputs": [],
   "source": [
    "from skimage import io\n",
    "from skimage.transform import resize\n",
    "from skimage.color import gray2rgb\n",
    "from random import shuffle\n",
    "\n",
    "label = []\n",
    "img = []\n",
    "\n",
    "for cate in os.listdir(train):\n",
    "    for idx in os.listdir(train / cate):\n",
    "        if idx != '.ipynb_checkpoints':\n",
    "            label.append(cate)\n",
    "            img.append(resize(gray2rgb(io.imread(train / cate / idx)), (224, 224, 3), mode='edge'))"
   ]
  },
  {
   "cell_type": "markdown",
   "metadata": {},
   "source": [
    "## mapping categories and codes"
   ]
  },
  {
   "cell_type": "code",
   "execution_count": 3,
   "metadata": {},
   "outputs": [
    {
     "name": "stderr",
     "output_type": "stream",
     "text": [
      "/opt/conda/lib/python3.6/site-packages/ipykernel_launcher.py:4: FutureWarning: by argument to sort_index is deprecated, please use .sort_values(by=...)\n",
      "  after removing the cwd from sys.path.\n"
     ]
    }
   ],
   "source": [
    "from sklearn.preprocessing import LabelEncoder\n",
    "\n",
    "mapping = pd.read_csv(root_path / 'mid_term_mapping.txt', header=None, names=['cate', 'code'])\n",
    "mapping.sort_index(by='code', inplace=True)\n",
    "\n",
    "le = LabelEncoder().fit(mapping.cate)\n",
    "labels = le.transform(label)"
   ]
  },
  {
   "cell_type": "markdown",
   "metadata": {},
   "source": [
    "## train-test split"
   ]
  },
  {
   "cell_type": "code",
   "execution_count": 4,
   "metadata": {},
   "outputs": [
    {
     "name": "stdout",
     "output_type": "stream",
     "text": [
      "training size: 2383\n",
      "validation size: 602\n"
     ]
    }
   ],
   "source": [
    "from sklearn.model_selection import StratifiedKFold\n",
    "\n",
    "skf = StratifiedKFold(n_splits=5)\n",
    "\n",
    "for train_idx, val_idx in skf.split(img, labels):\n",
    "    break\n",
    "    \n",
    "print('training size:', len(train_idx))\n",
    "print('validation size:', len(val_idx))"
   ]
  },
  {
   "cell_type": "code",
   "execution_count": null,
   "metadata": {},
   "outputs": [],
   "source": [
    "train_img = []\n",
    "train_lab = []\n",
    "val_img = []\n",
    "val_lab = []\n",
    "\n",
    "# train\n",
    "shuffle(train_idx)\n",
    "for i in train_idx:\n",
    "    train_img.append(img[i])\n",
    "    train_lab.append(labels[i])\n",
    "    \n",
    "# val\n",
    "shuffle(val_idx)\n",
    "for i in val_idx:\n",
    "    val_img.append(img[i])\n",
    "    val_lab.append(labels[i])"
   ]
  },
  {
   "cell_type": "markdown",
   "metadata": {},
   "source": [
    "## CNN model - inception-resnet-v2"
   ]
  },
  {
   "cell_type": "code",
   "execution_count": null,
   "metadata": {},
   "outputs": [
    {
     "name": "stderr",
     "output_type": "stream",
     "text": [
      "/opt/conda/lib/python3.6/site-packages/h5py/__init__.py:36: FutureWarning: Conversion of the second argument of issubdtype from `float` to `np.floating` is deprecated. In future, it will be treated as `np.float64 == np.dtype(float).type`.\n",
      "  from ._conv import register_converters as _register_converters\n",
      "Using TensorFlow backend.\n"
     ]
    },
    {
     "name": "stdout",
     "output_type": "stream",
     "text": [
      "Downloading data from https://github.com/fchollet/deep-learning-models/releases/download/v0.7/inception_resnet_v2_weights_tf_dim_ordering_tf_kernels_notop.h5\n",
      " 61857792/219055592 [=======>......................] - ETA: 17:37"
     ]
    }
   ],
   "source": [
    "import keras.backend as K\n",
    "from keras.applications.inception_resnet_v2 import InceptionResNetV2\n",
    "from keras.models import Model\n",
    "from keras.layers import Dense, GlobalAveragePooling2D\n",
    "\n",
    "K.clear_session()\n",
    "basenet = InceptionResNetV2(weights='imagenet', include_top=False, input_shape=(224, 224, 3))\n",
    "x = GlobalAveragePooling2D()(basenet.output)\n",
    "x = Dense(15, activation='softmax')(x)\n",
    "\n",
    "model = Model(inputs=basenet.input, outputs=x)\n",
    "model.compile(optimizer='adam', loss='categorical_crossentropy', metrics=['acc'])"
   ]
  },
  {
   "cell_type": "markdown",
   "metadata": {},
   "source": [
    "## model training"
   ]
  },
  {
   "cell_type": "code",
   "execution_count": null,
   "metadata": {},
   "outputs": [],
   "source": [
    "from keras.utils import to_categorical\n",
    "\n",
    "batch_size = 16\n",
    "\n",
    "train_hist = model.fit(np.array(train_img), to_categorical(train_lab), \n",
    "                       batch_size=batch_size, \n",
    "                       epochs=2**4, \n",
    "                       validation_data=(np.array(val_img), to_categorical(val_lab)), \n",
    "                       verbose=2)"
   ]
  },
  {
   "cell_type": "markdown",
   "metadata": {},
   "source": [
    "## testing"
   ]
  },
  {
   "cell_type": "code",
   "execution_count": null,
   "metadata": {},
   "outputs": [],
   "source": [
    "test_img = []\n",
    "\n",
    "for idx in os.listdir(test):\n",
    "    if idx != '.ipynb_checkpoints':\n",
    "        test_img.append(resize(gray2rgb(io.imread(test / idx)), (224, 224, 3), mode='edge'))\n",
    "\n",
    "# model prediction\n",
    "pred = model.predict(np.array(test_img))\n",
    "pred_cate = inverse_transform(pred.argmax(-1))\n",
    "pred_final = pd.concat([pd.DataFrame(os.listdir(test).remove('.ipynb_checkpoints')), pd.DataFrame(pred_cate)], 1)\n",
    "pred_final.sample(10)"
   ]
  },
  {
   "cell_type": "markdown",
   "metadata": {},
   "source": [
    "## submition"
   ]
  },
  {
   "cell_type": "code",
   "execution_count": null,
   "metadata": {},
   "outputs": [],
   "source": [
    "pred_final.to_csv(root_path / 'submit01.csv', index=False, header=None)"
   ]
  },
  {
   "cell_type": "code",
   "execution_count": null,
   "metadata": {},
   "outputs": [],
   "source": []
  }
 ],
 "metadata": {
  "kernelspec": {
   "display_name": "Python 3",
   "language": "python",
   "name": "python3"
  },
  "language_info": {
   "codemirror_mode": {
    "name": "ipython",
    "version": 3
   },
   "file_extension": ".py",
   "mimetype": "text/x-python",
   "name": "python",
   "nbconvert_exporter": "python",
   "pygments_lexer": "ipython3",
   "version": "3.6.4"
  }
 },
 "nbformat": 4,
 "nbformat_minor": 2
}

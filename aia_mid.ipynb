{
 "cells": [
  {
   "cell_type": "markdown",
   "metadata": {},
   "source": [
    "# AIA\n",
    "AIA mid-term"
   ]
  },
  {
   "cell_type": "code",
   "execution_count": 1,
   "metadata": {},
   "outputs": [],
   "source": [
    "import os\n",
    "import numpy as np\n",
    "import pandas as pd\n",
    "from pathlib import Path\n",
    "import matplotlib.pyplot as plt\n",
    "%matplotlib inline\n",
    "\n",
    "root_path = Path('/media/share/data/kaggle/TWaia')\n",
    "train = root_path / 'train'\n",
    "test = root_path / 'test'"
   ]
  },
  {
   "cell_type": "markdown",
   "metadata": {},
   "source": [
    "## image process\n",
    "- color trans\n",
    "- resize to 224, 224"
   ]
  },
  {
   "cell_type": "code",
   "execution_count": 2,
   "metadata": {},
   "outputs": [],
   "source": [
    "from skimage import io\n",
    "from skimage.transform import resize\n",
    "from skimage.color import gray2rgb\n",
    "from random import shuffle\n",
    "\n",
    "label = []\n",
    "img = []\n",
    "\n",
    "for cate in os.listdir(train):\n",
    "    for idx in os.listdir(train / cate):\n",
    "        if idx != '.ipynb_checkpoints':\n",
    "            label.append(cate)\n",
    "            img.append(resize(gray2rgb(io.imread(train / cate / idx)), (224, 224, 3), mode='edge'))"
   ]
  },
  {
   "cell_type": "markdown",
   "metadata": {},
   "source": [
    "## mapping categories and codes"
   ]
  },
  {
   "cell_type": "code",
   "execution_count": 3,
   "metadata": {},
   "outputs": [
    {
     "name": "stderr",
     "output_type": "stream",
     "text": [
      "/opt/conda/lib/python3.6/site-packages/ipykernel_launcher.py:4: FutureWarning: by argument to sort_index is deprecated, please use .sort_values(by=...)\n",
      "  after removing the cwd from sys.path.\n"
     ]
    }
   ],
   "source": [
    "from sklearn.preprocessing import LabelEncoder\n",
    "\n",
    "mapping = pd.read_csv(root_path / 'mid_term_mapping.txt', header=None, names=['cate', 'code'])\n",
    "mapping.sort_index(by='code', inplace=True)\n",
    "\n",
    "le = LabelEncoder().fit(mapping.cate)\n",
    "labels = le.transform(label)"
   ]
  },
  {
   "cell_type": "markdown",
   "metadata": {},
   "source": [
    "## train-test split"
   ]
  },
  {
   "cell_type": "code",
   "execution_count": 4,
   "metadata": {},
   "outputs": [
    {
     "name": "stdout",
     "output_type": "stream",
     "text": [
      "training size: 2383\n",
      "validation size: 602\n"
     ]
    }
   ],
   "source": [
    "from sklearn.model_selection import StratifiedKFold\n",
    "\n",
    "skf = StratifiedKFold(n_splits=5)\n",
    "\n",
    "for train_idx, val_idx in skf.split(img, labels):\n",
    "    break\n",
    "    \n",
    "print('training size:', len(train_idx))\n",
    "print('validation size:', len(val_idx))"
   ]
  },
  {
   "cell_type": "code",
   "execution_count": 5,
   "metadata": {},
   "outputs": [],
   "source": [
    "train_img = []\n",
    "train_lab = []\n",
    "val_img = []\n",
    "val_lab = []\n",
    "\n",
    "# train\n",
    "shuffle(train_idx)\n",
    "for i in train_idx:\n",
    "    train_img.append(img[i])\n",
    "    train_lab.append(labels[i])\n",
    "    \n",
    "# val\n",
    "shuffle(val_idx)\n",
    "for i in val_idx:\n",
    "    val_img.append(img[i])\n",
    "    val_lab.append(labels[i])"
   ]
  },
  {
   "cell_type": "markdown",
   "metadata": {},
   "source": [
    "## CNN model - inception-resnet-v2"
   ]
  },
  {
   "cell_type": "code",
   "execution_count": 6,
   "metadata": {},
   "outputs": [
    {
     "name": "stderr",
     "output_type": "stream",
     "text": [
      "/opt/conda/lib/python3.6/site-packages/h5py/__init__.py:36: FutureWarning: Conversion of the second argument of issubdtype from `float` to `np.floating` is deprecated. In future, it will be treated as `np.float64 == np.dtype(float).type`.\n",
      "  from ._conv import register_converters as _register_converters\n",
      "Using TensorFlow backend.\n"
     ]
    },
    {
     "name": "stdout",
     "output_type": "stream",
     "text": [
      "Downloading data from https://github.com/fchollet/deep-learning-models/releases/download/v0.7/inception_resnet_v2_weights_tf_dim_ordering_tf_kernels_notop.h5\n",
      "219062272/219055592 [==============================] - 2568s 12us/step\n"
     ]
    }
   ],
   "source": [
    "import keras.backend as K\n",
    "from keras.applications.inception_resnet_v2 import InceptionResNetV2\n",
    "from keras.models import Model\n",
    "from keras.layers import Dense, GlobalAveragePooling2D\n",
    "\n",
    "K.clear_session()\n",
    "basenet = InceptionResNetV2(weights='imagenet', include_top=False, input_shape=(224, 224, 3))\n",
    "x = GlobalAveragePooling2D()(basenet.output)\n",
    "x = Dense(15, activation='softmax')(x)\n",
    "\n",
    "model = Model(inputs=basenet.input, outputs=x)\n",
    "model.compile(optimizer='adam', loss='categorical_crossentropy', metrics=['acc'])"
   ]
  },
  {
   "cell_type": "markdown",
   "metadata": {},
   "source": [
    "## model training"
   ]
  },
  {
   "cell_type": "code",
   "execution_count": 7,
   "metadata": {},
   "outputs": [
    {
     "name": "stdout",
     "output_type": "stream",
     "text": [
      "Train on 2383 samples, validate on 602 samples\n",
      "Epoch 1/16\n",
      " - 59s - loss: 0.9544 - acc: 0.6844 - val_loss: 1.1549 - val_acc: 0.6478\n",
      "Epoch 2/16\n",
      " - 40s - loss: 0.4964 - acc: 0.8422 - val_loss: 1.2857 - val_acc: 0.6246\n",
      "Epoch 3/16\n",
      " - 39s - loss: 0.3183 - acc: 0.8993 - val_loss: 1.6608 - val_acc: 0.5731\n",
      "Epoch 4/16\n",
      " - 39s - loss: 0.2650 - acc: 0.9152 - val_loss: 2.2332 - val_acc: 0.5498\n",
      "Epoch 5/16\n",
      " - 39s - loss: 0.1768 - acc: 0.9433 - val_loss: 1.6246 - val_acc: 0.6694\n",
      "Epoch 6/16\n",
      " - 39s - loss: 0.1728 - acc: 0.9425 - val_loss: 1.6879 - val_acc: 0.6611\n",
      "Epoch 7/16\n",
      " - 39s - loss: 0.1798 - acc: 0.9366 - val_loss: 1.1016 - val_acc: 0.7126\n",
      "Epoch 8/16\n",
      " - 39s - loss: 0.1028 - acc: 0.9681 - val_loss: 1.1499 - val_acc: 0.7193\n",
      "Epoch 9/16\n",
      " - 39s - loss: 0.1852 - acc: 0.9417 - val_loss: 3.0312 - val_acc: 0.4402\n",
      "Epoch 10/16\n",
      " - 39s - loss: 0.2096 - acc: 0.9308 - val_loss: 1.6161 - val_acc: 0.6744\n",
      "Epoch 11/16\n",
      " - 39s - loss: 0.0959 - acc: 0.9723 - val_loss: 1.7712 - val_acc: 0.6894\n",
      "Epoch 12/16\n",
      " - 39s - loss: 0.0759 - acc: 0.9744 - val_loss: 1.7417 - val_acc: 0.6877\n",
      "Epoch 13/16\n",
      " - 39s - loss: 0.0929 - acc: 0.9694 - val_loss: 2.1415 - val_acc: 0.6063\n",
      "Epoch 14/16\n",
      " - 39s - loss: 0.0541 - acc: 0.9828 - val_loss: 0.8697 - val_acc: 0.8007\n",
      "Epoch 15/16\n",
      " - 39s - loss: 0.0571 - acc: 0.9824 - val_loss: 1.0534 - val_acc: 0.7591\n",
      "Epoch 16/16\n",
      " - 39s - loss: 0.0435 - acc: 0.9862 - val_loss: 1.2421 - val_acc: 0.7425\n"
     ]
    }
   ],
   "source": [
    "from keras.utils import to_categorical\n",
    "\n",
    "batch_size = 16\n",
    "\n",
    "train_hist = model.fit(np.array(train_img), to_categorical(train_lab), \n",
    "                       batch_size=batch_size, \n",
    "                       epochs=2**4, \n",
    "                       validation_data=(np.array(val_img), to_categorical(val_lab)), \n",
    "                       verbose=2)"
   ]
  },
  {
   "cell_type": "markdown",
   "metadata": {},
   "source": [
    "## testing"
   ]
  },
  {
   "cell_type": "code",
   "execution_count": 18,
   "metadata": {},
   "outputs": [
    {
     "data": {
      "text/html": [
       "<div>\n",
       "<style scoped>\n",
       "    .dataframe tbody tr th:only-of-type {\n",
       "        vertical-align: middle;\n",
       "    }\n",
       "\n",
       "    .dataframe tbody tr th {\n",
       "        vertical-align: top;\n",
       "    }\n",
       "\n",
       "    .dataframe thead th {\n",
       "        text-align: right;\n",
       "    }\n",
       "</style>\n",
       "<table border=\"1\" class=\"dataframe\">\n",
       "  <thead>\n",
       "    <tr style=\"text-align: right;\">\n",
       "      <th></th>\n",
       "      <th>id</th>\n",
       "      <th>class</th>\n",
       "    </tr>\n",
       "  </thead>\n",
       "  <tbody>\n",
       "    <tr>\n",
       "      <th>1126</th>\n",
       "      <td>ba641dfb1a6bbf7c82798290736f642ae8442c5f9df830...</td>\n",
       "      <td>0</td>\n",
       "    </tr>\n",
       "    <tr>\n",
       "      <th>423</th>\n",
       "      <td>4582995ab6e9661427a11cdaee85731e7cb93fe82b4af0...</td>\n",
       "      <td>7</td>\n",
       "    </tr>\n",
       "    <tr>\n",
       "      <th>982</th>\n",
       "      <td>a3c7858370a6ac878007f121899878042faf8bbd7ceb92...</td>\n",
       "      <td>9</td>\n",
       "    </tr>\n",
       "    <tr>\n",
       "      <th>514</th>\n",
       "      <td>546d7ed7ade8a5120f2cf2442d744f477ee2e9521ed611...</td>\n",
       "      <td>11</td>\n",
       "    </tr>\n",
       "    <tr>\n",
       "      <th>838</th>\n",
       "      <td>8c74247803c18f017a817e15a09b2e03a21bfb780589fc...</td>\n",
       "      <td>14</td>\n",
       "    </tr>\n",
       "    <tr>\n",
       "      <th>1255</th>\n",
       "      <td>d38c03f857af07bc3fa762a357c785eae6a822ea907e09...</td>\n",
       "      <td>1</td>\n",
       "    </tr>\n",
       "    <tr>\n",
       "      <th>827</th>\n",
       "      <td>8af0089e6b065da9d498bb333115d74e7ca6b6eeebfe28...</td>\n",
       "      <td>11</td>\n",
       "    </tr>\n",
       "    <tr>\n",
       "      <th>295</th>\n",
       "      <td>31be4c248c8f77d711d1fcab19545a897724a316c16225...</td>\n",
       "      <td>3</td>\n",
       "    </tr>\n",
       "    <tr>\n",
       "      <th>511</th>\n",
       "      <td>54233915b3bbaef5124de45868afc281f5fe9d75bd5b8e...</td>\n",
       "      <td>11</td>\n",
       "    </tr>\n",
       "    <tr>\n",
       "      <th>899</th>\n",
       "      <td>97fcb5be46159454216744960118a0ff718b313d7e6207...</td>\n",
       "      <td>13</td>\n",
       "    </tr>\n",
       "  </tbody>\n",
       "</table>\n",
       "</div>"
      ],
      "text/plain": [
       "                                                     id  class\n",
       "1126  ba641dfb1a6bbf7c82798290736f642ae8442c5f9df830...      0\n",
       "423   4582995ab6e9661427a11cdaee85731e7cb93fe82b4af0...      7\n",
       "982   a3c7858370a6ac878007f121899878042faf8bbd7ceb92...      9\n",
       "514   546d7ed7ade8a5120f2cf2442d744f477ee2e9521ed611...     11\n",
       "838   8c74247803c18f017a817e15a09b2e03a21bfb780589fc...     14\n",
       "1255  d38c03f857af07bc3fa762a357c785eae6a822ea907e09...      1\n",
       "827   8af0089e6b065da9d498bb333115d74e7ca6b6eeebfe28...     11\n",
       "295   31be4c248c8f77d711d1fcab19545a897724a316c16225...      3\n",
       "511   54233915b3bbaef5124de45868afc281f5fe9d75bd5b8e...     11\n",
       "899   97fcb5be46159454216744960118a0ff718b313d7e6207...     13"
      ]
     },
     "execution_count": 18,
     "metadata": {},
     "output_type": "execute_result"
    }
   ],
   "source": [
    "test_img = []\n",
    "\n",
    "for idx in test.glob('*.jpg'):\n",
    "    test_img.append(resize(gray2rgb(io.imread(test / idx)), (224, 224, 3), mode='edge'))\n",
    "\n",
    "# model prediction\n",
    "pred = model.predict(np.array(test_img))\n",
    "pred_cate = pred.argmax(-1)\n",
    "fid = [x.name.replace('.jpg','') for x in list(test.glob('*.jpg'))]\n",
    "pred_final = pd.DataFrame({'id':fid,'class':pred_cate})\n",
    "pred_final[['id','class']].sample(10)"
   ]
  },
  {
   "cell_type": "markdown",
   "metadata": {},
   "source": [
    "## submition"
   ]
  },
  {
   "cell_type": "code",
   "execution_count": 20,
   "metadata": {},
   "outputs": [],
   "source": [
    "pred_final[['id','class']].to_csv(root_path / 'submit01.csv', index=False)"
   ]
  },
  {
   "cell_type": "code",
   "execution_count": null,
   "metadata": {},
   "outputs": [],
   "source": []
  }
 ],
 "metadata": {
  "kernelspec": {
   "display_name": "Python 3",
   "language": "python",
   "name": "python3"
  },
  "language_info": {
   "codemirror_mode": {
    "name": "ipython",
    "version": 3
   },
   "file_extension": ".py",
   "mimetype": "text/x-python",
   "name": "python",
   "nbconvert_exporter": "python",
   "pygments_lexer": "ipython3",
   "version": "3.6.4"
  }
 },
 "nbformat": 4,
 "nbformat_minor": 2
}
